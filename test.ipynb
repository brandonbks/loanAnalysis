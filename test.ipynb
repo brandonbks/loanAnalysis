{
 "cells": [
  {
   "cell_type": "code",
   "execution_count": 164,
   "metadata": {},
   "outputs": [],
   "source": [
    "import sys\n",
    "import numpy as np\n",
    "import pandas as pd\n",
    "import re\n",
    "import seaborn as sns\n",
    "import matplotlib.pyplot as plt\n",
    "sns.set(rc={'figure.figsize':(12,6)})"
   ]
  },
  {
   "cell_type": "code",
   "execution_count": 57,
   "metadata": {},
   "outputs": [
    {
     "name": "stderr",
     "output_type": "stream",
     "text": [
      "/Applications/anaconda3/lib/python3.7/site-packages/IPython/core/interactiveshell.py:3020: DtypeWarning: Columns (19,47,55,112,123,124,125,128,129,130,133,139,140,141) have mixed types. Specify dtype option on import or set low_memory=False.\n",
      "  interactivity=interactivity, compiler=compiler, result=result)\n"
     ]
    }
   ],
   "source": [
    "df = pd.read_csv(\"loan.csv\")"
   ]
  },
  {
   "cell_type": "code",
   "execution_count": 58,
   "metadata": {},
   "outputs": [],
   "source": [
    "def getClass(status):\n",
    "    if status==\"Charged Off\" or status==\"Default\" or status==\"Does not meet the credit policy. Status:Charged Off\" or status==\"In Grace Period\" or status==\"Late (16-30 days)\" or status==\"Late (31-120 days)\":\n",
    "        return 0\n",
    "    else:\n",
    "        return 1\n",
    "df[\"goodLoan\"] = df[\"loan_status\"].apply(lambda x: getClass(x))"
   ]
  },
  {
   "cell_type": "code",
   "execution_count": 59,
   "metadata": {},
   "outputs": [],
   "source": [
    "midWest = ['IL', 'MO', 'MN', 'OH', 'WI', 'KS', 'MI', 'SD', 'IA', 'NE', 'IN', 'ND']\n",
    "west = ['CA', 'OR', 'UT','WA', 'CO', 'NV', 'AK', 'MT', 'HI', 'WY', 'ID']\n",
    "northEast = ['CT', 'NY', 'PA', 'NJ', 'RI','MA', 'MD', 'VT', 'NH', 'ME']\n",
    "southEast = ['GA', 'NC', 'VA', 'FL', 'KY', 'SC', 'LA', 'AL', 'WV', 'DC', 'AR', 'DE', 'MS', 'TN' ]\n",
    "southWest = ['AZ', 'TX', 'NM', 'OK']\n",
    "df['region'] = np.nan\n",
    "def getRegion(state):\n",
    "    if state in west:\n",
    "        return 'West'\n",
    "    elif state in southWest:\n",
    "        return 'SouthWest'\n",
    "    elif state in southEast:\n",
    "        return 'SouthEast'\n",
    "    elif state in midWest:\n",
    "        return 'MidWest'\n",
    "    elif state in northEast:\n",
    "        return 'NorthEast'\n",
    "df['region'] = df['addr_state'].apply(lambda x: getRegion(x))"
   ]
  },
  {
   "cell_type": "code",
   "execution_count": 60,
   "metadata": {},
   "outputs": [],
   "source": [
    "def getIncomeCat(income):\n",
    "    if income<50000:\n",
    "        return \"Low\"\n",
    "    elif income>=50000 and income<100000:\n",
    "        return \"Middle\"\n",
    "    else: \n",
    "        return \"High\"\n",
    "df[\"incomeCat\"] = df[\"annual_inc\"].apply(lambda x: getIncomeCat(x))"
   ]
  },
  {
   "cell_type": "code",
   "execution_count": 61,
   "metadata": {},
   "outputs": [],
   "source": [
    "finaldf = df.copy()\n",
    "\"\"\"\n",
    "pub_rec - # of accounts client is delinquent\n",
    "total_acc - # of credit lines the borrower has\n",
    "delinq_2yrs - # of delinquencies in past 2 yrs\n",
    "\"\"\"\n",
    "finaldf = finaldf[['loan_amnt', \"region\", \"incomeCat\", 'term', 'int_rate', 'installment', 'grade',\n",
    "       'home_ownership', 'annual_inc', 'verification_status', 'pymnt_plan',\n",
    "       'purpose', 'dti', 'delinq_2yrs', 'inq_last_6mths',\n",
    "       'mths_since_last_delinq', 'mths_since_last_record', 'open_acc',\n",
    "       'pub_rec', 'revol_bal', 'revol_util', 'total_acc', \n",
    "       'goodLoan', 'mths_since_last_major_derog', 'collection_recovery_fee', 'out_prncp', 'out_prncp_inv', 'total_pymnt',\n",
    "        'total_pymnt_inv', 'total_rec_int', 'total_rec_late_fee', 'recoveries',\n",
    "        'last_pymnt_amnt']]"
   ]
  },
  {
   "cell_type": "code",
   "execution_count": 62,
   "metadata": {},
   "outputs": [],
   "source": [
    "df_subset = finaldf.sample(n=10000)\n",
    "col_object = df_subset.select_dtypes(include=['object']).columns.values.tolist()\n",
    "expDf = pd.get_dummies(data = df_subset, columns = col_object)\n",
    "expDf = expDf.dropna(axis='columns')\n",
    "testdf = expDf.copy()\n",
    "expCol1 = ['loan_amnt', 'int_rate', 'installment', 'annual_inc',\n",
    "       'delinq_2yrs', 'inq_last_6mths', 'open_acc', 'pub_rec',\n",
    "       'revol_bal', 'total_acc', 'collection_recovery_fee',\n",
    "       'out_prncp', 'out_prncp_inv', 'total_pymnt', 'total_pymnt_inv',\n",
    "       'total_rec_int', 'total_rec_late_fee', 'recoveries',\n",
    "       'last_pymnt_amnt', 'region_MidWest', 'region_NorthEast',\n",
    "       'region_SouthEast', 'region_SouthWest', 'region_West',\n",
    "       'incomeCat_High', 'incomeCat_Low', 'incomeCat_Middle',\n",
    "       'term_ 36 months', 'term_ 60 months', 'grade_A', 'grade_B',\n",
    "       'grade_C', 'grade_D', 'grade_E', 'grade_F', 'grade_G',\n",
    "       'home_ownership_ANY', 'home_ownership_MORTGAGE',\n",
    "       'home_ownership_OWN', 'home_ownership_RENT',\n",
    "       'verification_status_Not Verified',\n",
    "       'verification_status_Source Verified',\n",
    "       'verification_status_Verified', 'pymnt_plan_n', 'pymnt_plan_y']\n",
    "for i in range(len(expCol1)):\n",
    "    for j in range(len(expCol1)):\n",
    "        testdf['{}_{}'.format(expCol1[i], expCol1[j])] = testdf[expCol1[i]]*testdf[expCol1[j]]\n",
    "expDf = testdf.copy()"
   ]
  },
  {
   "cell_type": "code",
   "execution_count": 63,
   "metadata": {},
   "outputs": [],
   "source": [
    "dfS = pd.read_csv(\"sample2030.csv\")"
   ]
  },
  {
   "cell_type": "code",
   "execution_count": 64,
   "metadata": {},
   "outputs": [
    {
     "data": {
      "text/plain": [
       "(1822, 2086)"
      ]
     },
     "execution_count": 64,
     "metadata": {},
     "output_type": "execute_result"
    }
   ],
   "source": [
    "dfRandom = expDf.sample(n=dfS.shape[0])\n",
    "dfRandom.shape"
   ]
  },
  {
   "cell_type": "code",
   "execution_count": 140,
   "metadata": {},
   "outputs": [],
   "source": [
    "purposeList = ['purpose_car',\n",
    " 'purpose_credit_card',\n",
    " 'purpose_debt_consolidation',\n",
    " 'purpose_educational',\n",
    " 'purpose_home_improvement',\n",
    " 'purpose_house',\n",
    " 'purpose_major_purchase',\n",
    " 'purpose_medical',\n",
    " 'purpose_moving',\n",
    " 'purpose_other',\n",
    " 'purpose_renewable_energy',\n",
    " 'purpose_small_business',\n",
    " 'purpose_vacation',\n",
    " 'purpose_wedding']"
   ]
  },
  {
   "cell_type": "code",
   "execution_count": 182,
   "metadata": {},
   "outputs": [],
   "source": [
    "def getGeoDiversity(df):\n",
    "    GeoDiversity = 0\n",
    "    S = df.as_matrix()\n",
    "    for row in S:\n",
    "        GeoDiversity += np.linalg.norm(row, ord=2)**2\n",
    "    return np.log(GeoDiversity)"
   ]
  },
  {
   "cell_type": "code",
   "execution_count": 142,
   "metadata": {},
   "outputs": [],
   "source": [
    "dfSizeFair = pd.DataFrame(columns=['Purpose', 'Count', 'Perc'])\n",
    "for purpose in purposeList:\n",
    "    dfSizeFair = dfSizeFair.append({'Purpose': purpose, \n",
    "                                    'Count': dfS[dfS[purpose]==1].shape[0],\n",
    "                                    'Perc': '{0:.2f}%'.format((dfS[dfS[purpose]==1].shape[0]/dfS[dfS[purpose]==1].shape[1])*100)}, ignore_index=True)"
   ]
  },
  {
   "cell_type": "code",
   "execution_count": 143,
   "metadata": {},
   "outputs": [
    {
     "name": "stderr",
     "output_type": "stream",
     "text": [
      "/Applications/anaconda3/lib/python3.7/site-packages/ipykernel_launcher.py:1: FutureWarning: Method .as_matrix will be removed in a future version. Use .values instead.\n",
      "  \"\"\"Entry point for launching an IPython kernel.\n",
      "/Applications/anaconda3/lib/python3.7/site-packages/ipykernel_launcher.py:3: FutureWarning: Method .as_matrix will be removed in a future version. Use .values instead.\n",
      "  This is separate from the ipykernel package so we can avoid doing imports until\n"
     ]
    }
   ],
   "source": [
    "a = dfS.as_matrix()\n",
    "fairM = np.dot(a, a.T)\n",
    "b = dfRandom.as_matrix()\n",
    "randomM = np.dot(b, b.T)"
   ]
  },
  {
   "cell_type": "code",
   "execution_count": 144,
   "metadata": {},
   "outputs": [
    {
     "data": {
      "text/plain": [
       "1.219650101136585e+32"
      ]
     },
     "execution_count": 144,
     "metadata": {},
     "output_type": "execute_result"
    }
   ],
   "source": [
    "sum(sum(fairM-randomM))"
   ]
  },
  {
   "cell_type": "code",
   "execution_count": 145,
   "metadata": {},
   "outputs": [
    {
     "data": {
      "text/html": [
       "<div>\n",
       "<style scoped>\n",
       "    .dataframe tbody tr th:only-of-type {\n",
       "        vertical-align: middle;\n",
       "    }\n",
       "\n",
       "    .dataframe tbody tr th {\n",
       "        vertical-align: top;\n",
       "    }\n",
       "\n",
       "    .dataframe thead th {\n",
       "        text-align: right;\n",
       "    }\n",
       "</style>\n",
       "<table border=\"1\" class=\"dataframe\">\n",
       "  <thead>\n",
       "    <tr style=\"text-align: right;\">\n",
       "      <th></th>\n",
       "      <th>Purpose</th>\n",
       "      <th>Count</th>\n",
       "      <th>Perc</th>\n",
       "    </tr>\n",
       "  </thead>\n",
       "  <tbody>\n",
       "    <tr>\n",
       "      <th>0</th>\n",
       "      <td>purpose_car</td>\n",
       "      <td>124</td>\n",
       "      <td>5.94%</td>\n",
       "    </tr>\n",
       "    <tr>\n",
       "      <th>1</th>\n",
       "      <td>purpose_credit_card</td>\n",
       "      <td>112</td>\n",
       "      <td>5.37%</td>\n",
       "    </tr>\n",
       "    <tr>\n",
       "      <th>2</th>\n",
       "      <td>purpose_debt_consolidation</td>\n",
       "      <td>135</td>\n",
       "      <td>6.47%</td>\n",
       "    </tr>\n",
       "    <tr>\n",
       "      <th>3</th>\n",
       "      <td>purpose_educational</td>\n",
       "      <td>132</td>\n",
       "      <td>6.33%</td>\n",
       "    </tr>\n",
       "    <tr>\n",
       "      <th>4</th>\n",
       "      <td>purpose_home_improvement</td>\n",
       "      <td>144</td>\n",
       "      <td>6.90%</td>\n",
       "    </tr>\n",
       "    <tr>\n",
       "      <th>5</th>\n",
       "      <td>purpose_house</td>\n",
       "      <td>133</td>\n",
       "      <td>6.38%</td>\n",
       "    </tr>\n",
       "    <tr>\n",
       "      <th>6</th>\n",
       "      <td>purpose_major_purchase</td>\n",
       "      <td>126</td>\n",
       "      <td>6.04%</td>\n",
       "    </tr>\n",
       "    <tr>\n",
       "      <th>7</th>\n",
       "      <td>purpose_medical</td>\n",
       "      <td>142</td>\n",
       "      <td>6.81%</td>\n",
       "    </tr>\n",
       "    <tr>\n",
       "      <th>8</th>\n",
       "      <td>purpose_moving</td>\n",
       "      <td>130</td>\n",
       "      <td>6.23%</td>\n",
       "    </tr>\n",
       "    <tr>\n",
       "      <th>9</th>\n",
       "      <td>purpose_other</td>\n",
       "      <td>124</td>\n",
       "      <td>5.94%</td>\n",
       "    </tr>\n",
       "    <tr>\n",
       "      <th>10</th>\n",
       "      <td>purpose_renewable_energy</td>\n",
       "      <td>136</td>\n",
       "      <td>6.52%</td>\n",
       "    </tr>\n",
       "    <tr>\n",
       "      <th>11</th>\n",
       "      <td>purpose_small_business</td>\n",
       "      <td>116</td>\n",
       "      <td>5.56%</td>\n",
       "    </tr>\n",
       "    <tr>\n",
       "      <th>12</th>\n",
       "      <td>purpose_vacation</td>\n",
       "      <td>135</td>\n",
       "      <td>6.47%</td>\n",
       "    </tr>\n",
       "    <tr>\n",
       "      <th>13</th>\n",
       "      <td>purpose_wedding</td>\n",
       "      <td>133</td>\n",
       "      <td>6.38%</td>\n",
       "    </tr>\n",
       "  </tbody>\n",
       "</table>\n",
       "</div>"
      ],
      "text/plain": [
       "                       Purpose Count   Perc\n",
       "0                  purpose_car   124  5.94%\n",
       "1          purpose_credit_card   112  5.37%\n",
       "2   purpose_debt_consolidation   135  6.47%\n",
       "3          purpose_educational   132  6.33%\n",
       "4     purpose_home_improvement   144  6.90%\n",
       "5                purpose_house   133  6.38%\n",
       "6       purpose_major_purchase   126  6.04%\n",
       "7              purpose_medical   142  6.81%\n",
       "8               purpose_moving   130  6.23%\n",
       "9                purpose_other   124  5.94%\n",
       "10    purpose_renewable_energy   136  6.52%\n",
       "11      purpose_small_business   116  5.56%\n",
       "12            purpose_vacation   135  6.47%\n",
       "13             purpose_wedding   133  6.38%"
      ]
     },
     "execution_count": 145,
     "metadata": {},
     "output_type": "execute_result"
    }
   ],
   "source": [
    "dfSizeFair"
   ]
  },
  {
   "cell_type": "code",
   "execution_count": 146,
   "metadata": {},
   "outputs": [],
   "source": [
    "dfSizeRandom = pd.DataFrame(columns=['Purpose', 'Count', 'Perc'])\n",
    "for purpose in purposeList:\n",
    "    dfSizeRandom = dfSizeRandom.append({'Purpose': purpose, \n",
    "                                        'Count': dfRandom[dfRandom[purpose]==1].shape[0],\n",
    "                                        'Perc': '{0:.2f}%'.format((dfRandom[dfRandom[purpose]==1].shape[0]/dfRandom[dfRandom[purpose]==1].shape[1])*100)}, ignore_index=True)"
   ]
  },
  {
   "cell_type": "code",
   "execution_count": 147,
   "metadata": {},
   "outputs": [
    {
     "data": {
      "text/html": [
       "<div>\n",
       "<style scoped>\n",
       "    .dataframe tbody tr th:only-of-type {\n",
       "        vertical-align: middle;\n",
       "    }\n",
       "\n",
       "    .dataframe tbody tr th {\n",
       "        vertical-align: top;\n",
       "    }\n",
       "\n",
       "    .dataframe thead th {\n",
       "        text-align: right;\n",
       "    }\n",
       "</style>\n",
       "<table border=\"1\" class=\"dataframe\">\n",
       "  <thead>\n",
       "    <tr style=\"text-align: right;\">\n",
       "      <th></th>\n",
       "      <th>Purpose</th>\n",
       "      <th>Count</th>\n",
       "      <th>Perc</th>\n",
       "    </tr>\n",
       "  </thead>\n",
       "  <tbody>\n",
       "    <tr>\n",
       "      <th>0</th>\n",
       "      <td>purpose_car</td>\n",
       "      <td>14</td>\n",
       "      <td>0.67%</td>\n",
       "    </tr>\n",
       "    <tr>\n",
       "      <th>1</th>\n",
       "      <td>purpose_credit_card</td>\n",
       "      <td>427</td>\n",
       "      <td>20.47%</td>\n",
       "    </tr>\n",
       "    <tr>\n",
       "      <th>2</th>\n",
       "      <td>purpose_debt_consolidation</td>\n",
       "      <td>1028</td>\n",
       "      <td>49.28%</td>\n",
       "    </tr>\n",
       "    <tr>\n",
       "      <th>3</th>\n",
       "      <td>purpose_educational</td>\n",
       "      <td>0</td>\n",
       "      <td>0.00%</td>\n",
       "    </tr>\n",
       "    <tr>\n",
       "      <th>4</th>\n",
       "      <td>purpose_home_improvement</td>\n",
       "      <td>123</td>\n",
       "      <td>5.90%</td>\n",
       "    </tr>\n",
       "    <tr>\n",
       "      <th>5</th>\n",
       "      <td>purpose_house</td>\n",
       "      <td>8</td>\n",
       "      <td>0.38%</td>\n",
       "    </tr>\n",
       "    <tr>\n",
       "      <th>6</th>\n",
       "      <td>purpose_major_purchase</td>\n",
       "      <td>38</td>\n",
       "      <td>1.82%</td>\n",
       "    </tr>\n",
       "    <tr>\n",
       "      <th>7</th>\n",
       "      <td>purpose_medical</td>\n",
       "      <td>18</td>\n",
       "      <td>0.86%</td>\n",
       "    </tr>\n",
       "    <tr>\n",
       "      <th>8</th>\n",
       "      <td>purpose_moving</td>\n",
       "      <td>7</td>\n",
       "      <td>0.34%</td>\n",
       "    </tr>\n",
       "    <tr>\n",
       "      <th>9</th>\n",
       "      <td>purpose_other</td>\n",
       "      <td>113</td>\n",
       "      <td>5.42%</td>\n",
       "    </tr>\n",
       "    <tr>\n",
       "      <th>10</th>\n",
       "      <td>purpose_renewable_energy</td>\n",
       "      <td>0</td>\n",
       "      <td>0.00%</td>\n",
       "    </tr>\n",
       "    <tr>\n",
       "      <th>11</th>\n",
       "      <td>purpose_small_business</td>\n",
       "      <td>25</td>\n",
       "      <td>1.20%</td>\n",
       "    </tr>\n",
       "    <tr>\n",
       "      <th>12</th>\n",
       "      <td>purpose_vacation</td>\n",
       "      <td>18</td>\n",
       "      <td>0.86%</td>\n",
       "    </tr>\n",
       "    <tr>\n",
       "      <th>13</th>\n",
       "      <td>purpose_wedding</td>\n",
       "      <td>3</td>\n",
       "      <td>0.14%</td>\n",
       "    </tr>\n",
       "  </tbody>\n",
       "</table>\n",
       "</div>"
      ],
      "text/plain": [
       "                       Purpose Count    Perc\n",
       "0                  purpose_car    14   0.67%\n",
       "1          purpose_credit_card   427  20.47%\n",
       "2   purpose_debt_consolidation  1028  49.28%\n",
       "3          purpose_educational     0   0.00%\n",
       "4     purpose_home_improvement   123   5.90%\n",
       "5                purpose_house     8   0.38%\n",
       "6       purpose_major_purchase    38   1.82%\n",
       "7              purpose_medical    18   0.86%\n",
       "8               purpose_moving     7   0.34%\n",
       "9                purpose_other   113   5.42%\n",
       "10    purpose_renewable_energy     0   0.00%\n",
       "11      purpose_small_business    25   1.20%\n",
       "12            purpose_vacation    18   0.86%\n",
       "13             purpose_wedding     3   0.14%"
      ]
     },
     "execution_count": 147,
     "metadata": {},
     "output_type": "execute_result"
    }
   ],
   "source": [
    "dfSizeRandom"
   ]
  },
  {
   "cell_type": "code",
   "execution_count": 183,
   "metadata": {},
   "outputs": [
    {
     "name": "stderr",
     "output_type": "stream",
     "text": [
      "/Applications/anaconda3/lib/python3.7/site-packages/ipykernel_launcher.py:3: FutureWarning: Method .as_matrix will be removed in a future version. Use .values instead.\n",
      "  This is separate from the ipykernel package so we can avoid doing imports until\n"
     ]
    },
    {
     "data": {
      "text/plain": [
       "68.37287648395676"
      ]
     },
     "execution_count": 183,
     "metadata": {},
     "output_type": "execute_result"
    }
   ],
   "source": [
    "getGeoDiversity(dfS)"
   ]
  },
  {
   "cell_type": "code",
   "execution_count": 184,
   "metadata": {},
   "outputs": [
    {
     "name": "stderr",
     "output_type": "stream",
     "text": [
      "/Applications/anaconda3/lib/python3.7/site-packages/ipykernel_launcher.py:3: FutureWarning: Method .as_matrix will be removed in a future version. Use .values instead.\n",
      "  This is separate from the ipykernel package so we can avoid doing imports until\n"
     ]
    },
    {
     "data": {
      "text/plain": [
       "56.333909351263635"
      ]
     },
     "execution_count": 184,
     "metadata": {},
     "output_type": "execute_result"
    }
   ],
   "source": [
    "getGeoDiversity(dfRandom)"
   ]
  },
  {
   "cell_type": "code",
   "execution_count": 185,
   "metadata": {},
   "outputs": [
    {
     "name": "stderr",
     "output_type": "stream",
     "text": [
      "/Applications/anaconda3/lib/python3.7/site-packages/ipykernel_launcher.py:3: FutureWarning: Method .as_matrix will be removed in a future version. Use .values instead.\n",
      "  This is separate from the ipykernel package so we can avoid doing imports until\n"
     ]
    },
    {
     "data": {
      "text/plain": [
       "1.2137072905348274"
      ]
     },
     "execution_count": 185,
     "metadata": {},
     "output_type": "execute_result"
    }
   ],
   "source": [
    "getGeoDiversity(dfS)/getGeoDiversity(dfRandom)"
   ]
  },
  {
   "cell_type": "code",
   "execution_count": 186,
   "metadata": {},
   "outputs": [
    {
     "name": "stderr",
     "output_type": "stream",
     "text": [
      "/Applications/anaconda3/lib/python3.7/site-packages/ipykernel_launcher.py:3: FutureWarning: Method .as_matrix will be removed in a future version. Use .values instead.\n",
      "  This is separate from the ipykernel package so we can avoid doing imports until\n"
     ]
    },
    {
     "data": {
      "text/html": [
       "<div>\n",
       "<style scoped>\n",
       "    .dataframe tbody tr th:only-of-type {\n",
       "        vertical-align: middle;\n",
       "    }\n",
       "\n",
       "    .dataframe tbody tr th {\n",
       "        vertical-align: top;\n",
       "    }\n",
       "\n",
       "    .dataframe thead th {\n",
       "        text-align: right;\n",
       "    }\n",
       "</style>\n",
       "<table border=\"1\" class=\"dataframe\">\n",
       "  <thead>\n",
       "    <tr style=\"text-align: right;\">\n",
       "      <th></th>\n",
       "      <th>p-DPP</th>\n",
       "      <th>random</th>\n",
       "    </tr>\n",
       "  </thead>\n",
       "  <tbody>\n",
       "    <tr>\n",
       "      <th>0</th>\n",
       "      <td>68.372876</td>\n",
       "      <td>56.333909</td>\n",
       "    </tr>\n",
       "  </tbody>\n",
       "</table>\n",
       "</div>"
      ],
      "text/plain": [
       "       p-DPP     random\n",
       "0  68.372876  56.333909"
      ]
     },
     "execution_count": 186,
     "metadata": {},
     "output_type": "execute_result"
    }
   ],
   "source": [
    "dfGeoDiv = pd.DataFrame(columns=['p-DPP', 'random'])\n",
    "dfGeoDiv = dfGeoDiv.append({'p-DPP': getGeoDiversity(dfS), 'random': getGeoDiversity(dfRandom)\n",
    "                           }, ignore_index=True)\n",
    "dfGeoDiv"
   ]
  },
  {
   "cell_type": "code",
   "execution_count": 188,
   "metadata": {},
   "outputs": [
    {
     "data": {
      "image/png": "[encoded data removed]",
      "text/plain": [
       "<Figure size 864x432 with 1 Axes>"
      ]
     },
     "metadata": {},
     "output_type": "display_data"
    }
   ],
   "source": [
    "ax = sns.barplot(data=dfGeoDiv)\n",
    "plt.title('Geometric Diversity G(.) Comparison')\n",
    "plt.show()"
   ]
  },
  {
   "cell_type": "code",
   "execution_count": 152,
   "metadata": {},
   "outputs": [],
   "source": [
    "nameList = ['car',\n",
    " 'credit_card',\n",
    " 'debt_consolidation',\n",
    " 'educational',\n",
    " 'home_improvement',\n",
    " 'house',\n",
    " 'purchase',\n",
    " 'medical',\n",
    " 'moving',\n",
    " 'other',\n",
    " 'renewable_energy',\n",
    " 'small_business',\n",
    " 'vacation',\n",
    " 'wedding']"
   ]
  },
  {
   "cell_type": "code",
   "execution_count": 155,
   "metadata": {},
   "outputs": [
    {
     "data": {
      "text/html": [
       "<div>\n",
       "<style scoped>\n",
       "    .dataframe tbody tr th:only-of-type {\n",
       "        vertical-align: middle;\n",
       "    }\n",
       "\n",
       "    .dataframe tbody tr th {\n",
       "        vertical-align: top;\n",
       "    }\n",
       "\n",
       "    .dataframe thead th {\n",
       "        text-align: right;\n",
       "    }\n",
       "</style>\n",
       "<table border=\"1\" class=\"dataframe\">\n",
       "  <thead>\n",
       "    <tr style=\"text-align: right;\">\n",
       "      <th></th>\n",
       "      <th>Purpose</th>\n",
       "      <th>Count_p-dpp</th>\n",
       "      <th>Count_random</th>\n",
       "    </tr>\n",
       "  </thead>\n",
       "  <tbody>\n",
       "    <tr>\n",
       "      <th>0</th>\n",
       "      <td>car</td>\n",
       "      <td>124</td>\n",
       "      <td>14</td>\n",
       "    </tr>\n",
       "    <tr>\n",
       "      <th>1</th>\n",
       "      <td>credit_card</td>\n",
       "      <td>112</td>\n",
       "      <td>427</td>\n",
       "    </tr>\n",
       "    <tr>\n",
       "      <th>2</th>\n",
       "      <td>debt_consolidation</td>\n",
       "      <td>135</td>\n",
       "      <td>1028</td>\n",
       "    </tr>\n",
       "    <tr>\n",
       "      <th>3</th>\n",
       "      <td>educational</td>\n",
       "      <td>132</td>\n",
       "      <td>0</td>\n",
       "    </tr>\n",
       "    <tr>\n",
       "      <th>4</th>\n",
       "      <td>home_improvement</td>\n",
       "      <td>144</td>\n",
       "      <td>123</td>\n",
       "    </tr>\n",
       "    <tr>\n",
       "      <th>5</th>\n",
       "      <td>house</td>\n",
       "      <td>133</td>\n",
       "      <td>8</td>\n",
       "    </tr>\n",
       "    <tr>\n",
       "      <th>6</th>\n",
       "      <td>purchase</td>\n",
       "      <td>126</td>\n",
       "      <td>38</td>\n",
       "    </tr>\n",
       "    <tr>\n",
       "      <th>7</th>\n",
       "      <td>medical</td>\n",
       "      <td>142</td>\n",
       "      <td>18</td>\n",
       "    </tr>\n",
       "    <tr>\n",
       "      <th>8</th>\n",
       "      <td>moving</td>\n",
       "      <td>130</td>\n",
       "      <td>7</td>\n",
       "    </tr>\n",
       "    <tr>\n",
       "      <th>9</th>\n",
       "      <td>other</td>\n",
       "      <td>124</td>\n",
       "      <td>113</td>\n",
       "    </tr>\n",
       "    <tr>\n",
       "      <th>10</th>\n",
       "      <td>renewable_energy</td>\n",
       "      <td>136</td>\n",
       "      <td>0</td>\n",
       "    </tr>\n",
       "    <tr>\n",
       "      <th>11</th>\n",
       "      <td>small_business</td>\n",
       "      <td>116</td>\n",
       "      <td>25</td>\n",
       "    </tr>\n",
       "    <tr>\n",
       "      <th>12</th>\n",
       "      <td>vacation</td>\n",
       "      <td>135</td>\n",
       "      <td>18</td>\n",
       "    </tr>\n",
       "    <tr>\n",
       "      <th>13</th>\n",
       "      <td>wedding</td>\n",
       "      <td>133</td>\n",
       "      <td>3</td>\n",
       "    </tr>\n",
       "  </tbody>\n",
       "</table>\n",
       "</div>"
      ],
      "text/plain": [
       "               Purpose Count_p-dpp Count_random\n",
       "0                  car         124           14\n",
       "1          credit_card         112          427\n",
       "2   debt_consolidation         135         1028\n",
       "3          educational         132            0\n",
       "4     home_improvement         144          123\n",
       "5                house         133            8\n",
       "6             purchase         126           38\n",
       "7              medical         142           18\n",
       "8               moving         130            7\n",
       "9                other         124          113\n",
       "10    renewable_energy         136            0\n",
       "11      small_business         116           25\n",
       "12            vacation         135           18\n",
       "13             wedding         133            3"
      ]
     },
     "execution_count": 155,
     "metadata": {},
     "output_type": "execute_result"
    }
   ],
   "source": [
    "dfSize = pd.DataFrame(columns=['Purpose', 'Count_p-dpp', 'Count_random'])\n",
    "for purpose in purposeList:\n",
    "    dfSize = dfSize.append({'Purpose': purpose, \n",
    "                            'Count_p-dpp': dfS[dfS[purpose]==1].shape[0],\n",
    "#                             'Perc_p-dpp': '{0:.2f}%'.format((dfS[dfS[purpose]==1].shape[0]/dfS[dfS[purpose]==1].shape[1])*100),\n",
    "                            'Count_random': dfRandom[dfRandom[purpose]==1].shape[0],\n",
    "#                             'Perc_random': '{0:.2f}%'.format((dfRandom[dfRandom[purpose]==1].shape[0]/dfRandom[dfRandom[purpose]==1].shape[1])*100)\n",
    "                           }, ignore_index=True)\n",
    "dfSize['Purpose'] = nameList\n",
    "dfSize"
   ]
  },
  {
   "cell_type": "code",
   "execution_count": 156,
   "metadata": {},
   "outputs": [],
   "source": [
    "dfCountCompare = pd.melt(dfSize, id_vars=\"Purpose\", var_name=\"Approach\", value_name=\"Count\")"
   ]
  },
  {
   "cell_type": "code",
   "execution_count": 157,
   "metadata": {},
   "outputs": [
    {
     "data": {
      "text/html": [
       "<div>\n",
       "<style scoped>\n",
       "    .dataframe tbody tr th:only-of-type {\n",
       "        vertical-align: middle;\n",
       "    }\n",
       "\n",
       "    .dataframe tbody tr th {\n",
       "        vertical-align: top;\n",
       "    }\n",
       "\n",
       "    .dataframe thead th {\n",
       "        text-align: right;\n",
       "    }\n",
       "</style>\n",
       "<table border=\"1\" class=\"dataframe\">\n",
       "  <thead>\n",
       "    <tr style=\"text-align: right;\">\n",
       "      <th></th>\n",
       "      <th>Purpose</th>\n",
       "      <th>Approach</th>\n",
       "      <th>Count</th>\n",
       "    </tr>\n",
       "  </thead>\n",
       "  <tbody>\n",
       "    <tr>\n",
       "      <th>0</th>\n",
       "      <td>car</td>\n",
       "      <td>Count_p-dpp</td>\n",
       "      <td>124</td>\n",
       "    </tr>\n",
       "    <tr>\n",
       "      <th>1</th>\n",
       "      <td>credit_card</td>\n",
       "      <td>Count_p-dpp</td>\n",
       "      <td>112</td>\n",
       "    </tr>\n",
       "    <tr>\n",
       "      <th>2</th>\n",
       "      <td>debt_consolidation</td>\n",
       "      <td>Count_p-dpp</td>\n",
       "      <td>135</td>\n",
       "    </tr>\n",
       "    <tr>\n",
       "      <th>3</th>\n",
       "      <td>educational</td>\n",
       "      <td>Count_p-dpp</td>\n",
       "      <td>132</td>\n",
       "    </tr>\n",
       "    <tr>\n",
       "      <th>4</th>\n",
       "      <td>home_improvement</td>\n",
       "      <td>Count_p-dpp</td>\n",
       "      <td>144</td>\n",
       "    </tr>\n",
       "    <tr>\n",
       "      <th>5</th>\n",
       "      <td>house</td>\n",
       "      <td>Count_p-dpp</td>\n",
       "      <td>133</td>\n",
       "    </tr>\n",
       "    <tr>\n",
       "      <th>6</th>\n",
       "      <td>purchase</td>\n",
       "      <td>Count_p-dpp</td>\n",
       "      <td>126</td>\n",
       "    </tr>\n",
       "    <tr>\n",
       "      <th>7</th>\n",
       "      <td>medical</td>\n",
       "      <td>Count_p-dpp</td>\n",
       "      <td>142</td>\n",
       "    </tr>\n",
       "    <tr>\n",
       "      <th>8</th>\n",
       "      <td>moving</td>\n",
       "      <td>Count_p-dpp</td>\n",
       "      <td>130</td>\n",
       "    </tr>\n",
       "    <tr>\n",
       "      <th>9</th>\n",
       "      <td>other</td>\n",
       "      <td>Count_p-dpp</td>\n",
       "      <td>124</td>\n",
       "    </tr>\n",
       "    <tr>\n",
       "      <th>10</th>\n",
       "      <td>renewable_energy</td>\n",
       "      <td>Count_p-dpp</td>\n",
       "      <td>136</td>\n",
       "    </tr>\n",
       "    <tr>\n",
       "      <th>11</th>\n",
       "      <td>small_business</td>\n",
       "      <td>Count_p-dpp</td>\n",
       "      <td>116</td>\n",
       "    </tr>\n",
       "    <tr>\n",
       "      <th>12</th>\n",
       "      <td>vacation</td>\n",
       "      <td>Count_p-dpp</td>\n",
       "      <td>135</td>\n",
       "    </tr>\n",
       "    <tr>\n",
       "      <th>13</th>\n",
       "      <td>wedding</td>\n",
       "      <td>Count_p-dpp</td>\n",
       "      <td>133</td>\n",
       "    </tr>\n",
       "    <tr>\n",
       "      <th>14</th>\n",
       "      <td>car</td>\n",
       "      <td>Count_random</td>\n",
       "      <td>14</td>\n",
       "    </tr>\n",
       "    <tr>\n",
       "      <th>15</th>\n",
       "      <td>credit_card</td>\n",
       "      <td>Count_random</td>\n",
       "      <td>427</td>\n",
       "    </tr>\n",
       "    <tr>\n",
       "      <th>16</th>\n",
       "      <td>debt_consolidation</td>\n",
       "      <td>Count_random</td>\n",
       "      <td>1028</td>\n",
       "    </tr>\n",
       "    <tr>\n",
       "      <th>17</th>\n",
       "      <td>educational</td>\n",
       "      <td>Count_random</td>\n",
       "      <td>0</td>\n",
       "    </tr>\n",
       "    <tr>\n",
       "      <th>18</th>\n",
       "      <td>home_improvement</td>\n",
       "      <td>Count_random</td>\n",
       "      <td>123</td>\n",
       "    </tr>\n",
       "    <tr>\n",
       "      <th>19</th>\n",
       "      <td>house</td>\n",
       "      <td>Count_random</td>\n",
       "      <td>8</td>\n",
       "    </tr>\n",
       "    <tr>\n",
       "      <th>20</th>\n",
       "      <td>purchase</td>\n",
       "      <td>Count_random</td>\n",
       "      <td>38</td>\n",
       "    </tr>\n",
       "    <tr>\n",
       "      <th>21</th>\n",
       "      <td>medical</td>\n",
       "      <td>Count_random</td>\n",
       "      <td>18</td>\n",
       "    </tr>\n",
       "    <tr>\n",
       "      <th>22</th>\n",
       "      <td>moving</td>\n",
       "      <td>Count_random</td>\n",
       "      <td>7</td>\n",
       "    </tr>\n",
       "    <tr>\n",
       "      <th>23</th>\n",
       "      <td>other</td>\n",
       "      <td>Count_random</td>\n",
       "      <td>113</td>\n",
       "    </tr>\n",
       "    <tr>\n",
       "      <th>24</th>\n",
       "      <td>renewable_energy</td>\n",
       "      <td>Count_random</td>\n",
       "      <td>0</td>\n",
       "    </tr>\n",
       "    <tr>\n",
       "      <th>25</th>\n",
       "      <td>small_business</td>\n",
       "      <td>Count_random</td>\n",
       "      <td>25</td>\n",
       "    </tr>\n",
       "    <tr>\n",
       "      <th>26</th>\n",
       "      <td>vacation</td>\n",
       "      <td>Count_random</td>\n",
       "      <td>18</td>\n",
       "    </tr>\n",
       "    <tr>\n",
       "      <th>27</th>\n",
       "      <td>wedding</td>\n",
       "      <td>Count_random</td>\n",
       "      <td>3</td>\n",
       "    </tr>\n",
       "  </tbody>\n",
       "</table>\n",
       "</div>"
      ],
      "text/plain": [
       "               Purpose      Approach Count\n",
       "0                  car   Count_p-dpp   124\n",
       "1          credit_card   Count_p-dpp   112\n",
       "2   debt_consolidation   Count_p-dpp   135\n",
       "3          educational   Count_p-dpp   132\n",
       "4     home_improvement   Count_p-dpp   144\n",
       "5                house   Count_p-dpp   133\n",
       "6             purchase   Count_p-dpp   126\n",
       "7              medical   Count_p-dpp   142\n",
       "8               moving   Count_p-dpp   130\n",
       "9                other   Count_p-dpp   124\n",
       "10    renewable_energy   Count_p-dpp   136\n",
       "11      small_business   Count_p-dpp   116\n",
       "12            vacation   Count_p-dpp   135\n",
       "13             wedding   Count_p-dpp   133\n",
       "14                 car  Count_random    14\n",
       "15         credit_card  Count_random   427\n",
       "16  debt_consolidation  Count_random  1028\n",
       "17         educational  Count_random     0\n",
       "18    home_improvement  Count_random   123\n",
       "19               house  Count_random     8\n",
       "20            purchase  Count_random    38\n",
       "21             medical  Count_random    18\n",
       "22              moving  Count_random     7\n",
       "23               other  Count_random   113\n",
       "24    renewable_energy  Count_random     0\n",
       "25      small_business  Count_random    25\n",
       "26            vacation  Count_random    18\n",
       "27             wedding  Count_random     3"
      ]
     },
     "execution_count": 157,
     "metadata": {},
     "output_type": "execute_result"
    }
   ],
   "source": [
    "dfCountCompare"
   ]
  },
  {
   "cell_type": "code",
   "execution_count": 171,
   "metadata": {},
   "outputs": [
    {
     "data": {
      "image/png": "[encoded data removed]",
      "text/plain": [
       "<Figure size 864x432 with 1 Axes>"
      ]
     },
     "metadata": {},
     "output_type": "display_data"
    }
   ],
   "source": [
    "ax = sns.barplot(x='Count', y='Purpose', hue='Approach', data=dfCountCompare)\n",
    "plt.title('Sub-sample Size Count Per Class Comparison')\n",
    "plt.show()"
   ]
  },
  {
   "cell_type": "code",
   "execution_count": 166,
   "metadata": {},
   "outputs": [
    {
     "data": {
      "text/html": [
       "<div>\n",
       "<style scoped>\n",
       "    .dataframe tbody tr th:only-of-type {\n",
       "        vertical-align: middle;\n",
       "    }\n",
       "\n",
       "    .dataframe tbody tr th {\n",
       "        vertical-align: top;\n",
       "    }\n",
       "\n",
       "    .dataframe thead th {\n",
       "        text-align: right;\n",
       "    }\n",
       "</style>\n",
       "<table border=\"1\" class=\"dataframe\">\n",
       "  <thead>\n",
       "    <tr style=\"text-align: right;\">\n",
       "      <th></th>\n",
       "      <th>Purpose</th>\n",
       "      <th>Perc_p-dpp</th>\n",
       "      <th>Perc_random</th>\n",
       "    </tr>\n",
       "  </thead>\n",
       "  <tbody>\n",
       "    <tr>\n",
       "      <th>0</th>\n",
       "      <td>car</td>\n",
       "      <td>5.944391</td>\n",
       "      <td>0.671141</td>\n",
       "    </tr>\n",
       "    <tr>\n",
       "      <th>1</th>\n",
       "      <td>credit_card</td>\n",
       "      <td>5.369128</td>\n",
       "      <td>20.469799</td>\n",
       "    </tr>\n",
       "    <tr>\n",
       "      <th>2</th>\n",
       "      <td>debt_consolidation</td>\n",
       "      <td>6.471716</td>\n",
       "      <td>49.280920</td>\n",
       "    </tr>\n",
       "    <tr>\n",
       "      <th>3</th>\n",
       "      <td>educational</td>\n",
       "      <td>6.327900</td>\n",
       "      <td>0.000000</td>\n",
       "    </tr>\n",
       "    <tr>\n",
       "      <th>4</th>\n",
       "      <td>home_improvement</td>\n",
       "      <td>6.903164</td>\n",
       "      <td>5.896453</td>\n",
       "    </tr>\n",
       "    <tr>\n",
       "      <th>5</th>\n",
       "      <td>house</td>\n",
       "      <td>6.375839</td>\n",
       "      <td>0.383509</td>\n",
       "    </tr>\n",
       "    <tr>\n",
       "      <th>6</th>\n",
       "      <td>purchase</td>\n",
       "      <td>6.040268</td>\n",
       "      <td>1.821668</td>\n",
       "    </tr>\n",
       "    <tr>\n",
       "      <th>7</th>\n",
       "      <td>medical</td>\n",
       "      <td>6.807287</td>\n",
       "      <td>0.862895</td>\n",
       "    </tr>\n",
       "    <tr>\n",
       "      <th>8</th>\n",
       "      <td>moving</td>\n",
       "      <td>6.232023</td>\n",
       "      <td>0.335570</td>\n",
       "    </tr>\n",
       "    <tr>\n",
       "      <th>9</th>\n",
       "      <td>other</td>\n",
       "      <td>5.944391</td>\n",
       "      <td>5.417066</td>\n",
       "    </tr>\n",
       "    <tr>\n",
       "      <th>10</th>\n",
       "      <td>renewable_energy</td>\n",
       "      <td>6.519655</td>\n",
       "      <td>0.000000</td>\n",
       "    </tr>\n",
       "    <tr>\n",
       "      <th>11</th>\n",
       "      <td>small_business</td>\n",
       "      <td>5.560882</td>\n",
       "      <td>1.198466</td>\n",
       "    </tr>\n",
       "    <tr>\n",
       "      <th>12</th>\n",
       "      <td>vacation</td>\n",
       "      <td>6.471716</td>\n",
       "      <td>0.862895</td>\n",
       "    </tr>\n",
       "    <tr>\n",
       "      <th>13</th>\n",
       "      <td>wedding</td>\n",
       "      <td>6.375839</td>\n",
       "      <td>0.143816</td>\n",
       "    </tr>\n",
       "  </tbody>\n",
       "</table>\n",
       "</div>"
      ],
      "text/plain": [
       "               Purpose  Perc_p-dpp  Perc_random\n",
       "0                  car    5.944391     0.671141\n",
       "1          credit_card    5.369128    20.469799\n",
       "2   debt_consolidation    6.471716    49.280920\n",
       "3          educational    6.327900     0.000000\n",
       "4     home_improvement    6.903164     5.896453\n",
       "5                house    6.375839     0.383509\n",
       "6             purchase    6.040268     1.821668\n",
       "7              medical    6.807287     0.862895\n",
       "8               moving    6.232023     0.335570\n",
       "9                other    5.944391     5.417066\n",
       "10    renewable_energy    6.519655     0.000000\n",
       "11      small_business    5.560882     1.198466\n",
       "12            vacation    6.471716     0.862895\n",
       "13             wedding    6.375839     0.143816"
      ]
     },
     "execution_count": 166,
     "metadata": {},
     "output_type": "execute_result"
    }
   ],
   "source": [
    "dfSize = pd.DataFrame(columns=['Purpose', 'Perc_p-dpp', 'Perc_random'])\n",
    "for purpose in purposeList:\n",
    "    dfSize = dfSize.append({'Purpose': purpose, \n",
    "                            'Perc_p-dpp': (dfS[dfS[purpose]==1].shape[0]/dfS[dfS[purpose]==1].shape[1])*100,\n",
    "                            'Perc_random': (dfRandom[dfRandom[purpose]==1].shape[0]/dfRandom[dfRandom[purpose]==1].shape[1])*100\n",
    "                           }, ignore_index=True)\n",
    "dfSize['Purpose'] = nameList\n",
    "dfSize"
   ]
  },
  {
   "cell_type": "code",
   "execution_count": 167,
   "metadata": {},
   "outputs": [],
   "source": [
    "dfPercCompare = pd.melt(dfSize, id_vars=\"Purpose\", var_name=\"Approach\", value_name=\"Percent\")"
   ]
  },
  {
   "cell_type": "code",
   "execution_count": 170,
   "metadata": {},
   "outputs": [
    {
     "data": {
      "image/png": "[encoded data removed]",
      "text/plain": [
       "<Figure size 864x432 with 1 Axes>"
      ]
     },
     "metadata": {},
     "output_type": "display_data"
    }
   ],
   "source": [
    "ax = sns.lineplot(x='Purpose', y='Percent', hue='Approach', style='Approach', data=dfPercCompare)\n",
    "plt.setp(ax.get_xticklabels(), rotation=60)\n",
    "plt.title('Sub-sample Size Percentage Per Class Comparison')\n",
    "plt.show()"
   ]
  },
  {
   "cell_type": "code",
   "execution_count": null,
   "metadata": {},
   "outputs": [],
   "source": []
  }
 ],
 "metadata": {
  "kernelspec": {
   "display_name": "Python 3",
   "language": "python",
   "name": "python3"
  },
  "language_info": {
   "codemirror_mode": {
    "name": "ipython",
    "version": 3
   },
   "file_extension": ".py",
   "mimetype": "text/x-python",
   "name": "python",
   "nbconvert_exporter": "python",
   "pygments_lexer": "ipython3",
   "version": "3.7.3"
  }
 },
 "nbformat": 4,
 "nbformat_minor": 2
}
